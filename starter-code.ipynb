{
 "cells": [
  {
   "cell_type": "markdown",
   "metadata": {},
   "source": [
    "# Web Scraping with Beautiful Soup Lab"
   ]
  },
  {
   "cell_type": "code",
   "execution_count": 1,
   "metadata": {},
   "outputs": [],
   "source": [
    "# Import libaries here\n",
    "import pandas as pd\n",
    "import requests\n",
    "from bs4 import BeautifulSoup"
   ]
  },
  {
   "cell_type": "markdown",
   "metadata": {},
   "source": [
    "### Step 1: Create a soup object from the home page"
   ]
  },
  {
   "cell_type": "code",
   "execution_count": 2,
   "metadata": {},
   "outputs": [],
   "source": [
    "url = 'https://pages.git.generalassemb.ly/rldaggie/for-scraping/'\n",
    "\n",
    "res = requests.get(url)"
   ]
  },
  {
   "cell_type": "code",
   "execution_count": 3,
   "metadata": {},
   "outputs": [
    {
     "data": {
      "text/plain": [
       "200"
      ]
     },
     "execution_count": 3,
     "metadata": {},
     "output_type": "execute_result"
    }
   ],
   "source": [
    "res.status_code"
   ]
  },
  {
   "cell_type": "code",
   "execution_count": 4,
   "metadata": {},
   "outputs": [
    {
     "name": "stdout",
     "output_type": "stream",
     "text": [
      "<!DOCTYPE html>\n",
      "<html lang=\"en\">\n",
      "  <head>\n",
      "    <meta charset=\"utf-8\"/>\n",
      "    <meta http-equiv=\"X-UA-Compatible\" content=\"IE=edge\"/>\n",
      "    <meta name=\"viewport\" content=\"width=device-width, initial-scale=1.0\"/>\n",
      "    <title>Nutrition Information</title>\n",
      "    <link rel=\"stylesheet\" href=\"https://stackpath.bootstrapcdn.com/bootstrap/4.4.1/css/bootstrap.min.css\" integrity=\"sha384-Vkoo8x4CGsO3+Hhxv8T/Q5PaXtkKtu6ug5TOeNV6gBiFeWPGFN9MuhOf23Q9Ifjh\" crossorigin=\"anonymous\">\n",
      "\n",
      "  </head>\n",
      "  <body>\n",
      "    <header>\n",
      "      <section class=\"container\">\n",
      "        <nav role=\"navigation\" class=\"navbar navbar-expand-lg navbar-light bg-light\">\n",
      "<a class=\"navbar-brand\" href=\"/\">Nutrition Information</a>        </nav>\n",
      "      </section>\n",
      "    </header>\n",
      "    <main role=\"main\" class=\"container\">\n",
      "      <br>\n",
      "      <div class=\"alert alert-danger\">\n",
      "        NOTE: This data is super old and rife with errors. It's meant for scraping practice only.\n",
      "      </div>\n",
      "<table id=\"restaurants\" class=\"table\">\n",
      "  <thead>\n",
      "    <tr>\n",
      "      <th>Name</th>\n",
      "\n",
      "      <th></th>\n",
      "    </tr>\n",
      "  </thead>\n",
      "  <tbody>\n",
      "    <tr>\n",
      "      <td>\n",
      "<a href=\"restaurants/1.html\">A&amp;W Restaurants</a>      </td>\n",
      "    </tr>\n",
      "    <tr>\n",
      "      <td>\n",
      "<a href=\"restaurants/2.html\">Applebee&#39;s</a>      </td>\n",
      "    </tr>\n",
      "    <tr>\n",
      "      <td>\n",
      "<a href=\"restaurants/3.html\">Arby&#39;s</a>      </td>\n",
      "    </tr>\n",
      "    <tr>\n",
      "      <td>\n",
      "<a href=\"restaurants/4.html\">Atlanta Bread Company</a>      </td>\n",
      "    </tr>\n",
      "    <tr>\n",
      "      <td>\n",
      "<a href=\"restaurants/5.html\">Bojangle&#39;s Famous Chicken &#39;n Biscuits</a>      </td>\n",
      "    </tr>\n",
      "    <tr>\n",
      "      <td>\n",
      "<a href=\"restaurants/6.html\">Buffalo Wild Wings</a>      </td>\n",
      "    </tr>\n",
      "    <tr>\n",
      "      <td>\n",
      "<a href=\"restaurants/7.html\">Burger King</a>      </td>\n",
      "    </tr>\n",
      "    <tr>\n",
      "      <td>\n",
      "<a href=\"restaurants/8.html\">Captain D&#39;s</a>      </td>\n",
      "    </tr>\n",
      "    <tr>\n",
      "      <td>\n",
      "<a href=\"restaurants/9.html\">Carl&#39;s Jr.</a>      </td>\n",
      "    </tr>\n",
      "    <tr>\n",
      "      <td>\n",
      "<a href=\"restaurants/10.html\">Charley&#39;s Grilled Subs</a>      </td>\n",
      "    </tr>\n",
      "    <tr>\n",
      "      <td>\n",
      "<a href=\"restaurants/11.html\">Chick-fil-A</a>      </td>\n",
      "    </tr>\n",
      "    <tr>\n",
      "      <td>\n",
      "<a href=\"restaurants/12.html\">Chili&#39;s</a>      </td>\n",
      "    </tr>\n",
      "    <tr>\n",
      "      <td>\n",
      "<a href=\"restaurants/13.html\">Chipotle Mexican Grill</a>      </td>\n",
      "    </tr>\n",
      "    <tr>\n",
      "      <td>\n",
      "<a href=\"restaurants/14.html\">Church&#39;s</a>      </td>\n",
      "    </tr>\n",
      "    <tr>\n",
      "      <td>\n",
      "<a href=\"restaurants/15.html\">Corner Bakery Cafe</a>      </td>\n",
      "    </tr>\n",
      "    <tr>\n",
      "      <td>\n",
      "<a href=\"restaurants/16.html\">Dairy Queen</a>      </td>\n",
      "    </tr>\n",
      "    <tr>\n",
      "      <td>\n",
      "<a href=\"restaurants/17.html\">Denny&#39;s</a>      </td>\n",
      "    </tr>\n",
      "    <tr>\n",
      "      <td>\n",
      "<a href=\"restaurants/18.html\">El Pollo Loco</a>      </td>\n",
      "    </tr>\n",
      "    <tr>\n",
      "      <td>\n",
      "<a href=\"restaurants/19.html\">FATZ</a>      </td>\n",
      "    </tr>\n",
      "    <tr>\n",
      "      <td>\n",
      "<a href=\"restaurants/20.html\">Fazoli&#39;s</a>      </td>\n",
      "    </tr>\n",
      "    <tr>\n",
      "      <td>\n",
      "<a href=\"restaurants/21.html\">Five Guys Burgers and Fries</a>      </td>\n",
      "    </tr>\n",
      "    <tr>\n",
      "      <td>\n",
      "<a href=\"restaurants/22.html\">Golden Chick</a>      </td>\n",
      "    </tr>\n",
      "    <tr>\n",
      "      <td>\n",
      "<a href=\"restaurants/23.html\">Hardee&#39;s</a>      </td>\n",
      "    </tr>\n",
      "    <tr>\n",
      "      <td>\n",
      "<a href=\"restaurants/24.html\">IHOP</a>      </td>\n",
      "    </tr>\n",
      "    <tr>\n",
      "      <td>\n",
      "<a href=\"restaurants/25.html\">In-N-Out Burger</a>      </td>\n",
      "    </tr>\n",
      "    <tr>\n",
      "      <td>\n",
      "<a href=\"restaurants/26.html\">Jack in the Box</a>      </td>\n",
      "    </tr>\n",
      "    <tr>\n",
      "      <td>\n",
      "<a href=\"restaurants/27.html\">Jimmy Johns</a>      </td>\n",
      "    </tr>\n",
      "    <tr>\n",
      "      <td>\n",
      "<a href=\"restaurants/28.html\">Joe&#39;s Crab Shack</a>      </td>\n",
      "    </tr>\n",
      "    <tr>\n",
      "      <td>\n",
      "<a href=\"restaurants/29.html\">KFC</a>      </td>\n",
      "    </tr>\n",
      "    <tr>\n",
      "      <td>\n",
      "<a href=\"restaurants/30.html\">McDonald&#39;s</a>      </td>\n",
      "    </tr>\n",
      "    <tr>\n",
      "      <td>\n",
      "<a href=\"restaurants/31.html\">O&#39;Charley&#39;s</a>      </td>\n",
      "    </tr>\n",
      "    <tr>\n",
      "      <td>\n",
      "<a href=\"restaurants/32.html\">Olive Garden</a>      </td>\n",
      "    </tr>\n",
      "    <tr>\n",
      "      <td>\n",
      "<a href=\"restaurants/33.html\">Outback Steakhouse</a>      </td>\n",
      "    </tr>\n",
      "    <tr>\n",
      "      <td>\n",
      "<a href=\"restaurants/34.html\">Panda Express</a>      </td>\n",
      "    </tr>\n",
      "    <tr>\n",
      "      <td>\n",
      "<a href=\"restaurants/35.html\">Panera Bread</a>      </td>\n",
      "    </tr>\n",
      "    <tr>\n",
      "      <td>\n",
      "<a href=\"restaurants/36.html\">Popeye&#39;s</a>      </td>\n",
      "    </tr>\n",
      "    <tr>\n",
      "      <td>\n",
      "<a href=\"restaurants/37.html\">Quiznos</a>      </td>\n",
      "    </tr>\n",
      "    <tr>\n",
      "      <td>\n",
      "<a href=\"restaurants/38.html\">Red Robin Gourmet Burgers</a>      </td>\n",
      "    </tr>\n",
      "    <tr>\n",
      "      <td>\n",
      "<a href=\"restaurants/39.html\">Romano&#39;s Macaroni Grill</a>      </td>\n",
      "    </tr>\n",
      "    <tr>\n",
      "      <td>\n",
      "<a href=\"restaurants/40.html\">Ruby Tuesday</a>      </td>\n",
      "    </tr>\n",
      "    <tr>\n",
      "      <td>\n",
      "<a href=\"restaurants/41.html\">Subway</a>      </td>\n",
      "    </tr>\n",
      "    <tr>\n",
      "      <td>\n",
      "<a href=\"restaurants/42.html\">Taco Bell</a>      </td>\n",
      "    </tr>\n",
      "    <tr>\n",
      "      <td>\n",
      "<a href=\"restaurants/43.html\">Taco Bueno</a>      </td>\n",
      "    </tr>\n",
      "    <tr>\n",
      "      <td>\n",
      "<a href=\"restaurants/44.html\">Wendy&#39;s</a>      </td>\n",
      "    </tr>\n",
      "  </tbody>\n",
      "</table>    </main>\n",
      "</body>\n",
      "</html>\n",
      "\n"
     ]
    }
   ],
   "source": [
    "html = res.text\n",
    "print(html)"
   ]
  },
  {
   "cell_type": "code",
   "execution_count": 5,
   "metadata": {},
   "outputs": [],
   "source": [
    "soup = BeautifulSoup(html, 'lxml')"
   ]
  },
  {
   "cell_type": "markdown",
   "metadata": {},
   "source": [
    "### Step 2: Scrape the home page soup for every restaurant\n",
    "\n",
    "Note: Your best bet is to create a list of dictionaries, one for each restaurant. Each dictionary contains the restaurant's name and path from the `href`. The result of your scrape should look something like this:\n",
    "\n",
    "```python\n",
    "restaurants = [\n",
    "    {'name': 'A&W Restaurants', 'href': 'restaurants/1.html'}, \n",
    "    {'name': \"Applebee's\", 'href': 'restaurants/2.html'},\n",
    "    ...\n",
    "]\n",
    "```"
   ]
  },
  {
   "cell_type": "code",
   "execution_count": 6,
   "metadata": {},
   "outputs": [
    {
     "data": {
      "text/plain": [
       "[{'name': 'A&W Restaurants', 'href': 'restaurants/1.html'},\n",
       " {'name': \"Applebee's\", 'href': 'restaurants/2.html'},\n",
       " {'name': \"Arby's\", 'href': 'restaurants/3.html'},\n",
       " {'name': 'Atlanta Bread Company', 'href': 'restaurants/4.html'},\n",
       " {'name': \"Bojangle's Famous Chicken 'n Biscuits\",\n",
       "  'href': 'restaurants/5.html'},\n",
       " {'name': 'Buffalo Wild Wings', 'href': 'restaurants/6.html'},\n",
       " {'name': 'Burger King', 'href': 'restaurants/7.html'},\n",
       " {'name': \"Captain D's\", 'href': 'restaurants/8.html'},\n",
       " {'name': \"Carl's Jr.\", 'href': 'restaurants/9.html'},\n",
       " {'name': \"Charley's Grilled Subs\", 'href': 'restaurants/10.html'}]"
      ]
     },
     "execution_count": 6,
     "metadata": {},
     "output_type": "execute_result"
    }
   ],
   "source": [
    "results_list = []\n",
    "\n",
    "all_td = soup.find_all('td')\n",
    "for element in all_td:\n",
    "    result = {}\n",
    "    \n",
    "    a_href = element.find('a')\n",
    "    if a_href:\n",
    "        result['name'] = a_href.text \n",
    "        result['href'] = a_href['href']\n",
    "    results_list.append(result)\n",
    "\n",
    "results_list[:10]"
   ]
  },
  {
   "cell_type": "code",
   "execution_count": 7,
   "metadata": {},
   "outputs": [
    {
     "data": {
      "text/html": [
       "<div>\n",
       "<style scoped>\n",
       "    .dataframe tbody tr th:only-of-type {\n",
       "        vertical-align: middle;\n",
       "    }\n",
       "\n",
       "    .dataframe tbody tr th {\n",
       "        vertical-align: top;\n",
       "    }\n",
       "\n",
       "    .dataframe thead th {\n",
       "        text-align: right;\n",
       "    }\n",
       "</style>\n",
       "<table border=\"1\" class=\"dataframe\">\n",
       "  <thead>\n",
       "    <tr style=\"text-align: right;\">\n",
       "      <th></th>\n",
       "      <th>name</th>\n",
       "      <th>href</th>\n",
       "    </tr>\n",
       "  </thead>\n",
       "  <tbody>\n",
       "    <tr>\n",
       "      <th>0</th>\n",
       "      <td>A&amp;W Restaurants</td>\n",
       "      <td>restaurants/1.html</td>\n",
       "    </tr>\n",
       "    <tr>\n",
       "      <th>1</th>\n",
       "      <td>Applebee's</td>\n",
       "      <td>restaurants/2.html</td>\n",
       "    </tr>\n",
       "    <tr>\n",
       "      <th>2</th>\n",
       "      <td>Arby's</td>\n",
       "      <td>restaurants/3.html</td>\n",
       "    </tr>\n",
       "    <tr>\n",
       "      <th>3</th>\n",
       "      <td>Atlanta Bread Company</td>\n",
       "      <td>restaurants/4.html</td>\n",
       "    </tr>\n",
       "    <tr>\n",
       "      <th>4</th>\n",
       "      <td>Bojangle's Famous Chicken 'n Biscuits</td>\n",
       "      <td>restaurants/5.html</td>\n",
       "    </tr>\n",
       "  </tbody>\n",
       "</table>\n",
       "</div>"
      ],
      "text/plain": [
       "                                    name                href\n",
       "0                        A&W Restaurants  restaurants/1.html\n",
       "1                             Applebee's  restaurants/2.html\n",
       "2                                 Arby's  restaurants/3.html\n",
       "3                  Atlanta Bread Company  restaurants/4.html\n",
       "4  Bojangle's Famous Chicken 'n Biscuits  restaurants/5.html"
      ]
     },
     "execution_count": 7,
     "metadata": {},
     "output_type": "execute_result"
    }
   ],
   "source": [
    "pd.DataFrame(results_list).head()"
   ]
  },
  {
   "cell_type": "markdown",
   "metadata": {},
   "source": [
    "### Step 3: Using the `href`, scrape each restaurant's page and create a single list of food dictionaries.\n",
    "\n",
    "Your list of foods should look something like this:\n",
    "```python\n",
    "foods = [\n",
    "    {\n",
    "        'calories': '0',\n",
    "        'carbs': '0',\n",
    "        'category': 'Drinks',\n",
    "        'fat': '0',\n",
    "        'name': 'A&W® Diet Root Beer',\n",
    "        'restaurant': 'A&W Restaurants'\n",
    "    },\n",
    "    {\n",
    "        'calories': '0',\n",
    "        'carbs': '0',\n",
    "        'category': 'Drinks',\n",
    "        'fat': '0',\n",
    "        'name': 'A&W® Diet Root Beer',\n",
    "        'restaurant': 'A&W Restaurants'\n",
    "    },\n",
    "    ...\n",
    "]\n",
    "```\n",
    "\n",
    "**Note**: Remove extra white space from each category"
   ]
  },
  {
   "cell_type": "code",
   "execution_count": 11,
   "metadata": {},
   "outputs": [],
   "source": [
    "food = []\n",
    "\n",
    "for i, v in enumerate(results_list):\n",
    "    href = list(results_list[i].items())[1][1] \n",
    "    url = 'https://pages.git.generalassemb.ly/rldaggie/for-scraping/' + href\n",
    "    response = requests.get(url)\n",
    "    html = response.text\n",
    "    soup = BeautifulSoup(html, 'lxml')\n",
    "    \n",
    "    tr = soup.findAll('tr')\n",
    "    for element in tr:\n",
    "        result = {}\n",
    "\n",
    "        td = element.find('td') # all tags with hyperlinks within elements/rows of td tags\n",
    "        if td:\n",
    "            result['calories'] = element.findAll('td')[2].text.strip()\n",
    "            result['carbs'] = element.findAll('td')[4].text.strip()\n",
    "            result['category'] = element.findAll('td')[1].text.strip()\n",
    "            result['fat'] = element.findAll('td')[3].text.strip()\n",
    "            result['name'] = element.findAll('td')[0].text.strip()\n",
    "            result['restaurant'] = list(results_list[i].values())[0]\n",
    "\n",
    "            food.append(result)\n",
    "\n",
    "# https://stackoverflow.com/questions/38570411/how-to-scrape-href-with-python-3-5-and-beautifulsoup"
   ]
  },
  {
   "cell_type": "code",
   "execution_count": 12,
   "metadata": {},
   "outputs": [
    {
     "data": {
      "text/plain": [
       "[{'calories': '760',\n",
       "  'carbs': '45',\n",
       "  'category': 'Burgers',\n",
       "  'fat': '45',\n",
       "  'name': 'Original Bacon Double Cheeseburger',\n",
       "  'restaurant': 'A&W Restaurants'}]"
      ]
     },
     "execution_count": 12,
     "metadata": {},
     "output_type": "execute_result"
    }
   ],
   "source": [
    "food[:1]"
   ]
  },
  {
   "cell_type": "markdown",
   "metadata": {},
   "source": [
    "### Step 4: Create a pandas DataFrame from your list of foods\n",
    "\n",
    "**Note**: Your DataFrame should have 5,131 rows. Please output the number of rows in your DataFrame!"
   ]
  },
  {
   "cell_type": "code",
   "execution_count": 13,
   "metadata": {},
   "outputs": [
    {
     "data": {
      "text/html": [
       "<div>\n",
       "<style scoped>\n",
       "    .dataframe tbody tr th:only-of-type {\n",
       "        vertical-align: middle;\n",
       "    }\n",
       "\n",
       "    .dataframe tbody tr th {\n",
       "        vertical-align: top;\n",
       "    }\n",
       "\n",
       "    .dataframe thead th {\n",
       "        text-align: right;\n",
       "    }\n",
       "</style>\n",
       "<table border=\"1\" class=\"dataframe\">\n",
       "  <thead>\n",
       "    <tr style=\"text-align: right;\">\n",
       "      <th></th>\n",
       "      <th>restaurant</th>\n",
       "      <th>name</th>\n",
       "      <th>category</th>\n",
       "      <th>calories</th>\n",
       "      <th>fat</th>\n",
       "      <th>carbs</th>\n",
       "    </tr>\n",
       "  </thead>\n",
       "  <tbody>\n",
       "    <tr>\n",
       "      <th>0</th>\n",
       "      <td>A&amp;W Restaurants</td>\n",
       "      <td>Original Bacon Double Cheeseburger</td>\n",
       "      <td>Burgers</td>\n",
       "      <td>760</td>\n",
       "      <td>45</td>\n",
       "      <td>45</td>\n",
       "    </tr>\n",
       "    <tr>\n",
       "      <th>1</th>\n",
       "      <td>A&amp;W Restaurants</td>\n",
       "      <td>Coney (Chili) Dog</td>\n",
       "      <td>Entrees</td>\n",
       "      <td>340</td>\n",
       "      <td>20</td>\n",
       "      <td>26</td>\n",
       "    </tr>\n",
       "    <tr>\n",
       "      <th>2</th>\n",
       "      <td>A&amp;W Restaurants</td>\n",
       "      <td>Chili Fries</td>\n",
       "      <td>French Fries</td>\n",
       "      <td>370</td>\n",
       "      <td>15</td>\n",
       "      <td>49</td>\n",
       "    </tr>\n",
       "    <tr>\n",
       "      <th>3</th>\n",
       "      <td>A&amp;W Restaurants</td>\n",
       "      <td>Strawberry Milkshake (small)</td>\n",
       "      <td>Shakes</td>\n",
       "      <td>670</td>\n",
       "      <td>29</td>\n",
       "      <td>90</td>\n",
       "    </tr>\n",
       "    <tr>\n",
       "      <th>4</th>\n",
       "      <td>A&amp;W Restaurants</td>\n",
       "      <td>A&amp;WÂ® Root Beer Freeze (large)</td>\n",
       "      <td>Shakes</td>\n",
       "      <td>820</td>\n",
       "      <td>18</td>\n",
       "      <td>150</td>\n",
       "    </tr>\n",
       "  </tbody>\n",
       "</table>\n",
       "</div>"
      ],
      "text/plain": [
       "        restaurant                                name      category calories  \\\n",
       "0  A&W Restaurants  Original Bacon Double Cheeseburger       Burgers      760   \n",
       "1  A&W Restaurants                   Coney (Chili) Dog       Entrees      340   \n",
       "2  A&W Restaurants                         Chili Fries  French Fries      370   \n",
       "3  A&W Restaurants        Strawberry Milkshake (small)        Shakes      670   \n",
       "4  A&W Restaurants      A&WÂ® Root Beer Freeze (large)        Shakes      820   \n",
       "\n",
       "  fat carbs  \n",
       "0  45    45  \n",
       "1  20    26  \n",
       "2  15    49  \n",
       "3  29    90  \n",
       "4  18   150  "
      ]
     },
     "execution_count": 13,
     "metadata": {},
     "output_type": "execute_result"
    }
   ],
   "source": [
    "foods = pd.DataFrame(data=food)[['restaurant','name','category','calories','fat','carbs']]\n",
    "foods.head()"
   ]
  },
  {
   "cell_type": "code",
   "execution_count": 14,
   "metadata": {},
   "outputs": [
    {
     "data": {
      "text/plain": [
       "(5131, 6)"
      ]
     },
     "execution_count": 14,
     "metadata": {},
     "output_type": "execute_result"
    }
   ],
   "source": [
    "# How many rows does your dataframe have?\n",
    "foods.shape"
   ]
  },
  {
   "cell_type": "markdown",
   "metadata": {},
   "source": [
    "### Step 5: Export to csv\n",
    "\n",
    "**Note:** Don't export the index column from your DataFrame"
   ]
  },
  {
   "cell_type": "code",
   "execution_count": null,
   "metadata": {},
   "outputs": [],
   "source": []
  }
 ],
 "metadata": {
  "kernelspec": {
   "display_name": "Python 3 (ipykernel)",
   "language": "python",
   "name": "python3"
  },
  "language_info": {
   "codemirror_mode": {
    "name": "ipython",
    "version": 3
   },
   "file_extension": ".py",
   "mimetype": "text/x-python",
   "name": "python",
   "nbconvert_exporter": "python",
   "pygments_lexer": "ipython3",
   "version": "3.9.7"
  }
 },
 "nbformat": 4,
 "nbformat_minor": 2
}
